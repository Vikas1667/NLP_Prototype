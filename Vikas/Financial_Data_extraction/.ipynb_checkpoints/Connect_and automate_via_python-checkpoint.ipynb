{
 "cells": [
  {
   "cell_type": "markdown",
   "metadata": {},
   "source": [
    "* [Intro](#Intro)\n",
    "* [Whats New From February 2022](#Whats-New-From-February-2022)\n"
   ]
  },
  {
   "cell_type": "markdown",
   "metadata": {},
   "source": [
    "# Intro"
   ]
  },
  {
   "cell_type": "markdown",
   "metadata": {},
   "source": [
    "1. Break the problem into sub problems\n",
    "2. Build to Basic Visionary path in Mind \n",
    "3. Try to Place solution fast to boost\n",
    "4. Optimize the solution"
   ]
  },
  {
   "cell_type": "markdown",
   "metadata": {},
   "source": [
    "# Whats New From February 2022\n",
    "\n",
    "[refer here](https://realpython.com/python-news-february-2022/)"
   ]
  },
  {
   "cell_type": "markdown",
   "metadata": {},
   "source": [
    "# Connect and perform operations\n",
    "\n",
    "1. Connect Mongodb \n",
    "\n",
    "https://realpython.com/web-scraping-with-scrapy-and-mongodb/\n",
    "\n",
    "https://medium.com/swlh/web-scraping-with-python-using-beautifulsoup-and-mongodb-6f15f6b04d68\n",
    "\n",
    "\n",
    "2. Connect SOLR\n",
    "\n",
    "3. connect Airflow\n",
    "\n",
    "https://towardsdatascience.com/step-by-step-build-a-data-pipeline-with-airflow-4f96854f7466\n",
    "\n",
    "https://www.codementor.io/@dmesquita/how-to-build-a-data-extraction-pipeline-with-apache-airflow-1cz026qk6w\n"
   ]
  },
  {
   "cell_type": "code",
   "execution_count": null,
   "metadata": {},
   "outputs": [],
   "source": []
  }
 ],
 "metadata": {
  "kernelspec": {
   "display_name": "Python 3 (ipykernel)",
   "language": "python",
   "name": "python3"
  },
  "language_info": {
   "codemirror_mode": {
    "name": "ipython",
    "version": 3
   },
   "file_extension": ".py",
   "mimetype": "text/x-python",
   "name": "python",
   "nbconvert_exporter": "python",
   "pygments_lexer": "ipython3",
   "version": "3.8.11"
  }
 },
 "nbformat": 4,
 "nbformat_minor": 4
}
