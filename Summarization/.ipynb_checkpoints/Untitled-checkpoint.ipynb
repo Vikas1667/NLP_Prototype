{
 "cells": [
  {
   "cell_type": "code",
   "execution_count": 1,
   "metadata": {},
   "outputs": [],
   "source": [
    "import transformers \n",
    "\n",
    "from transformers import T5Tokenizer, T5ForConditionalGeneration"
   ]
  },
  {
   "cell_type": "code",
   "execution_count": 2,
   "metadata": {},
   "outputs": [
    {
     "data": {
      "application/vnd.jupyter.widget-view+json": {
       "model_id": "142f85214903406285e1ab16467e48ba",
       "version_major": 2,
       "version_minor": 0
      },
      "text/plain": [
       "Downloading:   0%|          | 0.00/1.20k [00:00<?, ?B/s]"
      ]
     },
     "metadata": {},
     "output_type": "display_data"
    },
    {
     "data": {
      "application/vnd.jupyter.widget-view+json": {
       "model_id": "aa75fa75517e452e919e54f0662633a4",
       "version_major": 2,
       "version_minor": 0
      },
      "text/plain": [
       "Downloading:   0%|          | 0.00/242M [00:00<?, ?B/s]"
      ]
     },
     "metadata": {},
     "output_type": "display_data"
    }
   ],
   "source": [
    "t5_model = T5ForConditionalGeneration.from_pretrained('t5-small')"
   ]
  },
  {
   "cell_type": "code",
   "execution_count": 4,
   "metadata": {},
   "outputs": [],
   "source": [
    "t5_tokenizer = T5Tokenizer.from_pretrained('t5-small')"
   ]
  },
  {
   "cell_type": "code",
   "execution_count": 5,
   "metadata": {},
   "outputs": [],
   "source": [
    "text =\" The S&P 500 rebounded from its recent malaise, supported by a fall in Treasury yields after the Bank of England’s intervention calmed investor worries.The S&P 500 rose 1.6%, the Dow Jones Industrial Average gained 1.6%, or 457 points, and the Nasdaq was up 1.4%.The Bank of England said it delay plans to begin its bond selling program, or quantitative tightening and temporarily buy U.K. government bonds to restore orderly market conditions.”The move put pressure on U.K. government bond yields, which trade inversely to prices, dragging other sovereign bonds including U.S. Treasury yields lower. “There was a minor move lower in Fed funds pricing for the November rate move,” Scotiabank Economics said in a note.The 10-year Treasury yield slumped to 3.7%, pulling back from 15-year highs.Energy led the broader market higher, supported by a more than 3% rally in oil prices on supply disruption after 11% of oil production in in the U.S. Gulf of Mexico was shut owing to disruptions from Hurricane Ian.Marathon Petroleum (NYSE:MPC), Valero Energy (NYSE:VLO), Hess (NYSE:HES) was up more than 4%.Consumer stocks were also in the ascendency, with home builders and retailer leading to the upside.DR Horton (NYSE:DHI), Lennar (NYSE:LEN), PulteGroup (NYSE:PHM) were up more than 4%, recovering losses from a day earlier when data showed that home prices in July fell for the first time in 10-years as rising mortgage rates dampened demand.Technology stocks struggled to rack up momentum despite the fall in Treasury yields as a 2% slump in Apple weighed on the sector.Apple (NASDAQ:AAPL) came under pressure on reports the company is abandoning plans to boost new iPhone production, Bloomberg reported.“The iPhone 14 just did not receive the same level of upgrades vs. the iPhone 13 as the iPhone 14 Pro/Max received vs. the iPhone 13 Pro/Max,” KeyBanc said in a note.Netflix (NASDAQ:NFLX), meanwhile, rallied more than 6% after Atlantic Equities upgraded the stock to overweight on optimism about the company’s upcoming launch of a lower-cost, ad-supported subscriber tier.In other news, DocuSign (NASDAQ:DOCU) climbed 2% after it announced plans to cut 9% of its workforce as part of efforts to cut costs.\""
   ]
  },
  {
   "cell_type": "code",
   "execution_count": 6,
   "metadata": {},
   "outputs": [
    {
     "data": {
      "text/plain": [
       "' The S&P 500 rebounded from its recent malaise, supported by a fall in Treasury yields after the Bank of England’s intervention calmed investor worries.The S&P 500 rose 1.6%, the Dow Jones Industrial Average gained 1.6%, or 457 points, and the Nasdaq was up 1.4%.The Bank of England said it delay plans to begin its bond selling program, or quantitative tightening and temporarily buy U.K. government bonds to restore orderly market conditions.”The move put pressure on U.K. government bond yields, which trade inversely to prices, dragging other sovereign bonds including U.S. Treasury yields lower. “There was a minor move lower in Fed funds pricing for the November rate move,” Scotiabank Economics said in a note.The 10-year Treasury yield slumped to 3.7%, pulling back from 15-year highs.Energy led the broader market higher, supported by a more than 3% rally in oil prices on supply disruption after 11% of oil production in in the U.S. Gulf of Mexico was shut owing to disruptions from Hurricane Ian.Marathon Petroleum (NYSE:MPC), Valero Energy (NYSE:VLO), Hess (NYSE:HES) was up more than 4%.Consumer stocks were also in the ascendency, with home builders and retailer leading to the upside.DR Horton (NYSE:DHI), Lennar (NYSE:LEN), PulteGroup (NYSE:PHM) were up more than 4%, recovering losses from a day earlier when data showed that home prices in July fell for the first time in 10-years as rising mortgage rates dampened demand.Technology stocks struggled to rack up momentum despite the fall in Treasury yields as a 2% slump in Apple weighed on the sector.Apple (NASDAQ:AAPL) came under pressure on reports the company is abandoning plans to boost new iPhone production, Bloomberg reported.“The iPhone 14 just did not receive the same level of upgrades vs. the iPhone 13 as the iPhone 14 Pro/Max received vs. the iPhone 13 Pro/Max,” KeyBanc said in a note.Netflix (NASDAQ:NFLX), meanwhile, rallied more than 6% after Atlantic Equities upgraded the stock to overweight on optimism about the company’s upcoming launch of a lower-cost, ad-supported subscriber tier.In other news, DocuSign (NASDAQ:DOCU) climbed 2% after it announced plans to cut 9% of its workforce as part of efforts to cut costs.'"
      ]
     },
     "execution_count": 6,
     "metadata": {},
     "output_type": "execute_result"
    }
   ],
   "source": [
    "texttxt"
   ]
  },
  {
   "cell_type": "code",
   "execution_count": 9,
   "metadata": {},
   "outputs": [
    {
     "data": {
      "text/plain": [
       "'summarize:  The S&P 500 rebounded from its recent malaise, supported by a fall in Treasury yields after the Bank of England’s intervention calmed investor worries.The S&P 500 rose 1.6%, the Dow Jones Industrial Average gained 1.6%, or 457 points, and the Nasdaq was up 1.4%.The Bank of England said it delay plans to begin its bond selling program, or quantitative tightening and temporarily buy U.K. government bonds to restore orderly market conditions.”The move put pressure on U.K. government bond yields, which trade inversely to prices, dragging other sovereign bonds including U.S. Treasury yields lower. “There was a minor move lower in Fed funds pricing for the November rate move,” Scotiabank Economics said in a note.The 10-year Treasury yield slumped to 3.7%, pulling back from 15-year highs.Energy led the broader market higher, supported by a more than 3% rally in oil prices on supply disruption after 11% of oil production in in the U.S. Gulf of Mexico was shut owing to disruptions from Hurricane Ian.Marathon Petroleum (NYSE:MPC), Valero Energy (NYSE:VLO), Hess (NYSE:HES) was up more than 4%.Consumer stocks were also in the ascendency, with home builders and retailer leading to the upside.DR Horton (NYSE:DHI), Lennar (NYSE:LEN), PulteGroup (NYSE:PHM) were up more than 4%, recovering losses from a day earlier when data showed that home prices in July fell for the first time in 10-years as rising mortgage rates dampened demand.Technology stocks struggled to rack up momentum despite the fall in Treasury yields as a 2% slump in Apple weighed on the sector.Apple (NASDAQ:AAPL) came under pressure on reports the company is abandoning plans to boost new iPhone production, Bloomberg reported.“The iPhone 14 just did not receive the same level of upgrades vs. the iPhone 13 as the iPhone 14 Pro/Max received vs. the iPhone 13 Pro/Max,” KeyBanc said in a note.Netflix (NASDAQ:NFLX), meanwhile, rallied more than 6% after Atlantic Equities upgraded the stock to overweight on optimism about the company’s upcoming launch of a lower-cost, ad-supported subscriber tier.In other news, DocuSign (NASDAQ:DOCU) climbed 2% after it announced plans to cut 9% of its workforce as part of efforts to cut costs.'"
      ]
     },
     "execution_count": 9,
     "metadata": {},
     "output_type": "execute_result"
    }
   ],
   "source": [
    "t5_text=\"summarize: \"+ text\n",
    "t5_text"
   ]
  },
  {
   "cell_type": "code",
   "execution_count": 11,
   "metadata": {},
   "outputs": [],
   "source": [
    "inputs = t5_tokenizer.encode(t5_text, return_tensors=\"pt\", max_length=512, padding='max_length', truncation=True)"
   ]
  },
  {
   "cell_type": "code",
   "execution_count": 14,
   "metadata": {},
   "outputs": [
    {
     "name": "stderr",
     "output_type": "stream",
     "text": [
      "C:\\Users\\HP\\anaconda3\\lib\\site-packages\\torch\\_tensor.py:575: UserWarning: floor_divide is deprecated, and will be removed in a future version of pytorch. It currently rounds toward 0 (like the 'trunc' function NOT 'floor'). This results in incorrect rounding for negative values.\n",
      "To keep the current behavior, use torch.div(a, b, rounding_mode='trunc'), or for actual floor division, use torch.div(a, b, rounding_mode='floor'). (Triggered internally at  ..\\aten\\src\\ATen\\native\\BinaryOps.cpp:467.)\n",
      "  return torch.floor_divide(self, other)\n"
     ]
    }
   ],
   "source": [
    "summary_ids = t5_model.generate(inputs,num_beams=int(2),\n",
    "                                    no_repeat_ngram_size=3,\n",
    "                                    length_penalty=2.0,\n",
    "                                    min_length=100,\n",
    "                                    max_length=200,\n",
    "                                    early_stopping=True)\n",
    "\n",
    "output = t5_tokenizer.decode(summary_ids[0], skip_special_tokens=True, clean_up_tokenization_spaces=True)"
   ]
  },
  {
   "cell_type": "code",
   "execution_count": 15,
   "metadata": {},
   "outputs": [
    {
     "data": {
      "text/plain": [
       "'the bank of England said it delayed plans to begin its bond selling program. the 10-year Treasury yield slumped to 3.7%, pulling back from 15-year highs. a 2% slump in Apple weighed on the sector. netflix rallied more than 6% after Atlantic Equities upgraded the stock to overweight on optimism about boosting new iPhone production. analysts say the move is a sign of a slowdown in the market..'"
      ]
     },
     "execution_count": 15,
     "metadata": {},
     "output_type": "execute_result"
    }
   ],
   "source": [
    "output"
   ]
  },
  {
   "cell_type": "code",
   "execution_count": null,
   "metadata": {},
   "outputs": [],
   "source": []
  }
 ],
 "metadata": {
  "kernelspec": {
   "display_name": "Python 3",
   "language": "python",
   "name": "python3"
  },
  "language_info": {
   "codemirror_mode": {
    "name": "ipython",
    "version": 3
   },
   "file_extension": ".py",
   "mimetype": "text/x-python",
   "name": "python",
   "nbconvert_exporter": "python",
   "pygments_lexer": "ipython3",
   "version": "3.8.3"
  }
 },
 "nbformat": 4,
 "nbformat_minor": 4
}
